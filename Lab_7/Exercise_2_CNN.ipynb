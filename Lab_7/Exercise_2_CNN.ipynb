{
  "nbformat": 4,
  "nbformat_minor": 0,
  "metadata": {
    "colab": {
      "name": "Exercise_2_CNN.ipynb",
      "provenance": [],
      "collapsed_sections": [],
      "authorship_tag": "ABX9TyNURE+fpLwgWwHyFwZIhDkl",
      "include_colab_link": true
    },
    "kernelspec": {
      "name": "python3",
      "display_name": "Python 3"
    }
  },
  "cells": [
    {
      "cell_type": "markdown",
      "metadata": {
        "id": "view-in-github",
        "colab_type": "text"
      },
      "source": [
        "<a href=\"https://colab.research.google.com/github/jm19465/CE888/blob/master/Lab_7/Exercise_2_CNN.ipynb\" target=\"_parent\"><img src=\"https://colab.research.google.com/assets/colab-badge.svg\" alt=\"Open In Colab\"/></a>"
      ]
    },
    {
      "cell_type": "code",
      "metadata": {
        "id": "vOPV3P9hHGAU",
        "colab_type": "code",
        "outputId": "70ba84bf-bb36-42f8-cc48-e2b5ece374d9",
        "colab": {
          "base_uri": "https://localhost:8080/",
          "height": 224
        }
      },
      "source": [
        "import os\n",
        "os.environ['KAGGLE_USERNAME'] = \"guillermomejia\"\n",
        "os.environ['KAGGLE_KEY'] = \"72538d1c63af91e0bd757768279c3ba1\"\n",
        "!kaggle competitions download -c dogs-vs-cats\n",
        "# change dataset to -- kaggle datasets download -d arunrk7/surface-crack-detection"
      ],
      "execution_count": 1,
      "outputs": [
        {
          "output_type": "stream",
          "text": [
            "Warning: Looks like you're using an outdated API Version, please consider updating (server 1.5.6 / client 1.5.4)\n",
            "Downloading train.zip to /content\n",
            " 99% 540M/543M [00:02<00:00, 189MB/s]\n",
            "100% 543M/543M [00:02<00:00, 192MB/s]\n",
            "Downloading test1.zip to /content\n",
            " 98% 266M/271M [00:01<00:00, 208MB/s]\n",
            "100% 271M/271M [00:01<00:00, 192MB/s]\n",
            "Downloading sampleSubmission.csv to /content\n",
            "  0% 0.00/86.8k [00:00<?, ?B/s]\n",
            "100% 86.8k/86.8k [00:00<00:00, 79.8MB/s]\n"
          ],
          "name": "stdout"
        }
      ]
    },
    {
      "cell_type": "code",
      "metadata": {
        "id": "AndNGrwiJLLu",
        "colab_type": "code",
        "outputId": "251b3a5e-d759-41f5-aed9-c725ae51e063",
        "colab": {
          "base_uri": "https://localhost:8080/",
          "height": 36
        }
      },
      "source": [
        "from zipfile import ZipFile\n",
        "\n",
        "file_name = \"/content/train.zip\"\n",
        "\n",
        "with ZipFile(file_name, 'r') as zip:\n",
        "  zip.extractall()\n",
        "  print('done')"
      ],
      "execution_count": 2,
      "outputs": [
        {
          "output_type": "stream",
          "text": [
            "done\n"
          ],
          "name": "stdout"
        }
      ]
    },
    {
      "cell_type": "code",
      "metadata": {
        "id": "NN3hnic0LO94",
        "colab_type": "code",
        "outputId": "4bc0d926-d595-43da-f480-cb0f40db132d",
        "colab": {
          "base_uri": "https://localhost:8080/",
          "height": 36
        }
      },
      "source": [
        "data_dir_list = os.listdir('/content/train')\n",
        "path, dirs, files = next(os.walk(\"/content/train\"))\n",
        "file_count = len(files)\n",
        "print(file_count)"
      ],
      "execution_count": 3,
      "outputs": [
        {
          "output_type": "stream",
          "text": [
            "25000\n"
          ],
          "name": "stdout"
        }
      ]
    },
    {
      "cell_type": "code",
      "metadata": {
        "id": "u27_2vfDLROA",
        "colab_type": "code",
        "colab": {}
      },
      "source": [
        "original_dataset_dir = '/content/train'\n",
        "base_dir = '/content/cats_and_dogs_small'\n",
        "os.mkdir(base_dir)"
      ],
      "execution_count": 0,
      "outputs": []
    },
    {
      "cell_type": "code",
      "metadata": {
        "id": "tbLKH1FhLSio",
        "colab_type": "code",
        "colab": {}
      },
      "source": [
        "train_dir = os.path.join(base_dir, 'train')\n",
        "os.mkdir(train_dir)\n",
        "\n",
        "validation_dir = os.path.join(base_dir, 'validation')\n",
        "os.mkdir(validation_dir)\n",
        "\n",
        "test_dir = os.path.join(base_dir, 'test')\n",
        "os.mkdir(test_dir)\n",
        "\n",
        "train_cats_dir = os.path.join(train_dir, 'cats')\n",
        "os.mkdir(train_cats_dir)\n",
        "\n",
        "train_dogs_dir = os.path.join(train_dir, 'dogs')\n",
        "os.mkdir(train_dogs_dir)\n",
        "\n",
        "validation_cats_dir = os.path.join(validation_dir, 'cats')\n",
        "os.mkdir(validation_cats_dir)\n",
        "\n",
        "validation_dogs_dir = os.path.join(validation_dir, 'dogs')\n",
        "os.mkdir(validation_dogs_dir)\n",
        "\n",
        "test_cats_dir = os.path.join(test_dir, 'cats')\n",
        "os.mkdir(test_cats_dir)\n",
        "\n",
        "test_dogs_dir = os.path.join(test_dir, 'dogs')\n",
        "os.mkdir(test_dogs_dir)"
      ],
      "execution_count": 0,
      "outputs": []
    },
    {
      "cell_type": "code",
      "metadata": {
        "id": "-DNLHBxZLX_A",
        "colab_type": "code",
        "colab": {}
      },
      "source": [
        "import shutil\n",
        "fnames = ['cat.{}.jpg'.format(i) for i in range(1000)]\n",
        "for fname in fnames:\n",
        "    src = os.path.join(original_dataset_dir, fname)\n",
        "    dst = os.path.join(train_cats_dir, fname)\n",
        "    #print(src,dst)\n",
        "    shutil.copyfile(src, dst)\n",
        "    \n",
        "fnames = ['cat.{}.jpg'.format(i) for i in range(1000, 1500)]\n",
        "for fname in fnames:\n",
        "    src = os.path.join(original_dataset_dir, fname)\n",
        "    dst = os.path.join(validation_cats_dir, fname)\n",
        "    shutil.copyfile(src, dst)\n",
        "\n",
        "fnames = ['cat.{}.jpg'.format(i) for i in range(1500, 2000)]\n",
        "for fname in fnames:\n",
        "    src = os.path.join(original_dataset_dir, fname)\n",
        "    dst = os.path.join(test_cats_dir, fname)\n",
        "    shutil.copyfile(src, dst)\n",
        "    \n",
        "fnames = ['dog.{}.jpg'.format(i) for i in range(1000)]\n",
        "for fname in fnames:\n",
        "    src = os.path.join(original_dataset_dir, fname)\n",
        "    dst = os.path.join(train_dogs_dir, fname)\n",
        "    shutil.copyfile(src, dst)\n",
        "\n",
        "fnames = ['dog.{}.jpg'.format(i) for i in range(1000, 1500)]\n",
        "for fname in fnames:\n",
        "    src = os.path.join(original_dataset_dir, fname)\n",
        "    dst = os.path.join(validation_dogs_dir, fname)\n",
        "    shutil.copyfile(src, dst)\n",
        "\n",
        "fnames = ['dog.{}.jpg'.format(i) for i in range(1500, 2000)]\n",
        "for fname in fnames:\n",
        "    src = os.path.join(original_dataset_dir, fname)\n",
        "    dst = os.path.join(test_dogs_dir, fname)\n",
        "    shutil.copyfile(src, dst)"
      ],
      "execution_count": 0,
      "outputs": []
    },
    {
      "cell_type": "code",
      "metadata": {
        "id": "s7C8WmFjLZ8w",
        "colab_type": "code",
        "outputId": "1a9df84b-4cf3-4f12-ac15-8e767a366c4b",
        "colab": {
          "base_uri": "https://localhost:8080/",
          "height": 129
        }
      },
      "source": [
        "print('total training cat images:', len(os.listdir(train_cats_dir)))\n",
        "print('total training dog images:', len(os.listdir(train_dogs_dir)))\n",
        "print('total validation cat images:', len(os.listdir(validation_cats_dir)))\n",
        "\n",
        "print('total validation dog images:', len(os.listdir(validation_dogs_dir)))\n",
        "print('total test cat images:', len(os.listdir(test_cats_dir)))\n",
        "print('total test dog images:', len(os.listdir(test_dogs_dir)))"
      ],
      "execution_count": 7,
      "outputs": [
        {
          "output_type": "stream",
          "text": [
            "total training cat images: 1000\n",
            "total training dog images: 1000\n",
            "total validation cat images: 500\n",
            "total validation dog images: 500\n",
            "total test cat images: 500\n",
            "total test dog images: 500\n"
          ],
          "name": "stdout"
        }
      ]
    },
    {
      "cell_type": "code",
      "metadata": {
        "id": "SRsi_wZZNbZ0",
        "colab_type": "code",
        "outputId": "62c884eb-4a12-4b1e-b08a-c15bc01615f9",
        "colab": {
          "base_uri": "https://localhost:8080/",
          "height": 831
        }
      },
      "source": [
        "from keras import layers\n",
        "from keras import models\n",
        "\n",
        "model = models.Sequential()\n",
        "model.add(layers.Conv2D(32, (3, 3), activation='relu', input_shape=(150, 150, 3)))\n",
        "model.add(layers.MaxPooling2D((2, 2)))\n",
        "model.add(layers.Conv2D(64, (3, 3), activation='relu'))\n",
        "model.add(layers.MaxPooling2D((2, 2)))\n",
        "model.add(layers.Conv2D(128, (3, 3), activation='relu'))\n",
        "model.add(layers.MaxPooling2D((2, 2)))\n",
        "model.add(layers.Conv2D(128, (3, 3), activation='relu'))\n",
        "model.add(layers.MaxPooling2D((2, 2)))\n",
        "model.add(layers.Flatten())\n",
        "model.add(layers.Dense(512, activation='relu'))\n",
        "model.add(layers.Dense(1, activation='sigmoid'))\n",
        "model.summary()"
      ],
      "execution_count": 8,
      "outputs": [
        {
          "output_type": "stream",
          "text": [
            "Using TensorFlow backend.\n"
          ],
          "name": "stderr"
        },
        {
          "output_type": "display_data",
          "data": {
            "text/html": [
              "<p style=\"color: red;\">\n",
              "The default version of TensorFlow in Colab will soon switch to TensorFlow 2.x.<br>\n",
              "We recommend you <a href=\"https://www.tensorflow.org/guide/migrate\" target=\"_blank\">upgrade</a> now \n",
              "or ensure your notebook will continue to use TensorFlow 1.x via the <code>%tensorflow_version 1.x</code> magic:\n",
              "<a href=\"https://colab.research.google.com/notebooks/tensorflow_version.ipynb\" target=\"_blank\">more info</a>.</p>\n"
            ],
            "text/plain": [
              "<IPython.core.display.HTML object>"
            ]
          },
          "metadata": {
            "tags": []
          }
        },
        {
          "output_type": "stream",
          "text": [
            "WARNING:tensorflow:From /usr/local/lib/python3.6/dist-packages/keras/backend/tensorflow_backend.py:66: The name tf.get_default_graph is deprecated. Please use tf.compat.v1.get_default_graph instead.\n",
            "\n",
            "WARNING:tensorflow:From /usr/local/lib/python3.6/dist-packages/keras/backend/tensorflow_backend.py:541: The name tf.placeholder is deprecated. Please use tf.compat.v1.placeholder instead.\n",
            "\n",
            "WARNING:tensorflow:From /usr/local/lib/python3.6/dist-packages/keras/backend/tensorflow_backend.py:4432: The name tf.random_uniform is deprecated. Please use tf.random.uniform instead.\n",
            "\n",
            "WARNING:tensorflow:From /usr/local/lib/python3.6/dist-packages/keras/backend/tensorflow_backend.py:4267: The name tf.nn.max_pool is deprecated. Please use tf.nn.max_pool2d instead.\n",
            "\n",
            "Model: \"sequential_1\"\n",
            "_________________________________________________________________\n",
            "Layer (type)                 Output Shape              Param #   \n",
            "=================================================================\n",
            "conv2d_1 (Conv2D)            (None, 148, 148, 32)      896       \n",
            "_________________________________________________________________\n",
            "max_pooling2d_1 (MaxPooling2 (None, 74, 74, 32)        0         \n",
            "_________________________________________________________________\n",
            "conv2d_2 (Conv2D)            (None, 72, 72, 64)        18496     \n",
            "_________________________________________________________________\n",
            "max_pooling2d_2 (MaxPooling2 (None, 36, 36, 64)        0         \n",
            "_________________________________________________________________\n",
            "conv2d_3 (Conv2D)            (None, 34, 34, 128)       73856     \n",
            "_________________________________________________________________\n",
            "max_pooling2d_3 (MaxPooling2 (None, 17, 17, 128)       0         \n",
            "_________________________________________________________________\n",
            "conv2d_4 (Conv2D)            (None, 15, 15, 128)       147584    \n",
            "_________________________________________________________________\n",
            "max_pooling2d_4 (MaxPooling2 (None, 7, 7, 128)         0         \n",
            "_________________________________________________________________\n",
            "flatten_1 (Flatten)          (None, 6272)              0         \n",
            "_________________________________________________________________\n",
            "dense_1 (Dense)              (None, 512)               3211776   \n",
            "_________________________________________________________________\n",
            "dense_2 (Dense)              (None, 1)                 513       \n",
            "=================================================================\n",
            "Total params: 3,453,121\n",
            "Trainable params: 3,453,121\n",
            "Non-trainable params: 0\n",
            "_________________________________________________________________\n"
          ],
          "name": "stdout"
        }
      ]
    },
    {
      "cell_type": "code",
      "metadata": {
        "id": "Z5WziKKONfmJ",
        "colab_type": "code",
        "outputId": "8313a401-d376-49d5-fdb1-31ac50da3f29",
        "colab": {
          "base_uri": "https://localhost:8080/",
          "height": 168
        }
      },
      "source": [
        "from keras import optimizers\n",
        "model.compile(loss='binary_crossentropy', \n",
        "              optimizer=optimizers.RMSprop(lr=1e-4),\n",
        "              metrics=['acc'])"
      ],
      "execution_count": 9,
      "outputs": [
        {
          "output_type": "stream",
          "text": [
            "WARNING:tensorflow:From /usr/local/lib/python3.6/dist-packages/keras/optimizers.py:793: The name tf.train.Optimizer is deprecated. Please use tf.compat.v1.train.Optimizer instead.\n",
            "\n",
            "WARNING:tensorflow:From /usr/local/lib/python3.6/dist-packages/keras/backend/tensorflow_backend.py:3657: The name tf.log is deprecated. Please use tf.math.log instead.\n",
            "\n",
            "WARNING:tensorflow:From /usr/local/lib/python3.6/dist-packages/tensorflow_core/python/ops/nn_impl.py:183: where (from tensorflow.python.ops.array_ops) is deprecated and will be removed in a future version.\n",
            "Instructions for updating:\n",
            "Use tf.where in 2.0, which has the same broadcast rule as np.where\n"
          ],
          "name": "stdout"
        }
      ]
    },
    {
      "cell_type": "code",
      "metadata": {
        "id": "PHw-511PPt7Q",
        "colab_type": "code",
        "outputId": "c9b2a447-c14b-4260-daf5-3de12044f7ef",
        "colab": {
          "base_uri": "https://localhost:8080/",
          "height": 54
        }
      },
      "source": [
        "from keras.preprocessing.image import ImageDataGenerator\n",
        "\n",
        "train_datagen = ImageDataGenerator(rescale=1./255)\n",
        "test_datagen = ImageDataGenerator(rescale=1./255)\n",
        "\n",
        "train_generator = train_datagen.flow_from_directory(train_dir,\n",
        "                                                    target_size=(150, 150), \n",
        "                                                    batch_size=20,\n",
        "                                                    class_mode='binary')\n",
        "\n",
        "validation_generator = test_datagen.flow_from_directory(validation_dir,\n",
        "                                                        target_size=(150, 150),\n",
        "                                                        batch_size=20,\n",
        "                                                        class_mode='binary')"
      ],
      "execution_count": 10,
      "outputs": [
        {
          "output_type": "stream",
          "text": [
            "Found 2000 images belonging to 2 classes.\n",
            "Found 1000 images belonging to 2 classes.\n"
          ],
          "name": "stdout"
        }
      ]
    },
    {
      "cell_type": "code",
      "metadata": {
        "id": "Ryor_ywbP9-h",
        "colab_type": "code",
        "outputId": "5b04ca02-b012-4ad2-dd15-bb9f39261f4d",
        "colab": {
          "base_uri": "https://localhost:8080/",
          "height": 1000
        }
      },
      "source": [
        "history = model.fit_generator(train_generator,\n",
        "                              steps_per_epoch=100,\n",
        "                              epochs=30,\n",
        "                              validation_data=validation_generator,\n",
        "                              validation_steps=10)"
      ],
      "execution_count": 11,
      "outputs": [
        {
          "output_type": "stream",
          "text": [
            "WARNING:tensorflow:From /usr/local/lib/python3.6/dist-packages/keras/backend/tensorflow_backend.py:1033: The name tf.assign_add is deprecated. Please use tf.compat.v1.assign_add instead.\n",
            "\n",
            "WARNING:tensorflow:From /usr/local/lib/python3.6/dist-packages/keras/backend/tensorflow_backend.py:1020: The name tf.assign is deprecated. Please use tf.compat.v1.assign instead.\n",
            "\n",
            "WARNING:tensorflow:From /usr/local/lib/python3.6/dist-packages/keras/backend/tensorflow_backend.py:3005: The name tf.Session is deprecated. Please use tf.compat.v1.Session instead.\n",
            "\n",
            "Epoch 1/30\n",
            "WARNING:tensorflow:From /usr/local/lib/python3.6/dist-packages/keras/backend/tensorflow_backend.py:190: The name tf.get_default_session is deprecated. Please use tf.compat.v1.get_default_session instead.\n",
            "\n",
            "WARNING:tensorflow:From /usr/local/lib/python3.6/dist-packages/keras/backend/tensorflow_backend.py:197: The name tf.ConfigProto is deprecated. Please use tf.compat.v1.ConfigProto instead.\n",
            "\n",
            "WARNING:tensorflow:From /usr/local/lib/python3.6/dist-packages/keras/backend/tensorflow_backend.py:207: The name tf.global_variables is deprecated. Please use tf.compat.v1.global_variables instead.\n",
            "\n",
            "WARNING:tensorflow:From /usr/local/lib/python3.6/dist-packages/keras/backend/tensorflow_backend.py:216: The name tf.is_variable_initialized is deprecated. Please use tf.compat.v1.is_variable_initialized instead.\n",
            "\n",
            "WARNING:tensorflow:From /usr/local/lib/python3.6/dist-packages/keras/backend/tensorflow_backend.py:223: The name tf.variables_initializer is deprecated. Please use tf.compat.v1.variables_initializer instead.\n",
            "\n",
            "100/100 [==============================] - 96s 964ms/step - loss: 0.6934 - acc: 0.5170 - val_loss: 0.6768 - val_acc: 0.5550\n",
            "Epoch 2/30\n",
            "100/100 [==============================] - 94s 944ms/step - loss: 0.6665 - acc: 0.6025 - val_loss: 0.6489 - val_acc: 0.6000\n",
            "Epoch 3/30\n",
            "100/100 [==============================] - 94s 943ms/step - loss: 0.6116 - acc: 0.6670 - val_loss: 0.6076 - val_acc: 0.6600\n",
            "Epoch 4/30\n",
            "100/100 [==============================] - 94s 944ms/step - loss: 0.5725 - acc: 0.7010 - val_loss: 0.6191 - val_acc: 0.6550\n",
            "Epoch 5/30\n",
            "100/100 [==============================] - 94s 940ms/step - loss: 0.5330 - acc: 0.7310 - val_loss: 0.5818 - val_acc: 0.6800\n",
            "Epoch 6/30\n",
            "100/100 [==============================] - 95s 948ms/step - loss: 0.5061 - acc: 0.7570 - val_loss: 0.5623 - val_acc: 0.7050\n",
            "Epoch 7/30\n",
            "100/100 [==============================] - 94s 944ms/step - loss: 0.4658 - acc: 0.7720 - val_loss: 0.6761 - val_acc: 0.6100\n",
            "Epoch 8/30\n",
            "100/100 [==============================] - 95s 946ms/step - loss: 0.4441 - acc: 0.7985 - val_loss: 0.5066 - val_acc: 0.7500\n",
            "Epoch 9/30\n",
            "100/100 [==============================] - 95s 945ms/step - loss: 0.4167 - acc: 0.8115 - val_loss: 0.6056 - val_acc: 0.7100\n",
            "Epoch 10/30\n",
            "100/100 [==============================] - 94s 941ms/step - loss: 0.3923 - acc: 0.8275 - val_loss: 0.6282 - val_acc: 0.6750\n",
            "Epoch 11/30\n",
            "100/100 [==============================] - 95s 950ms/step - loss: 0.3613 - acc: 0.8440 - val_loss: 0.5065 - val_acc: 0.7750\n",
            "Epoch 12/30\n",
            "100/100 [==============================] - 95s 950ms/step - loss: 0.3395 - acc: 0.8535 - val_loss: 0.5409 - val_acc: 0.7350\n",
            "Epoch 13/30\n",
            "100/100 [==============================] - 95s 951ms/step - loss: 0.3036 - acc: 0.8725 - val_loss: 0.7708 - val_acc: 0.6200\n",
            "Epoch 14/30\n",
            "100/100 [==============================] - 95s 952ms/step - loss: 0.2824 - acc: 0.8870 - val_loss: 0.6432 - val_acc: 0.6900\n",
            "Epoch 15/30\n",
            "100/100 [==============================] - 95s 950ms/step - loss: 0.2632 - acc: 0.8900 - val_loss: 0.6808 - val_acc: 0.7400\n",
            "Epoch 16/30\n",
            "100/100 [==============================] - 95s 954ms/step - loss: 0.2345 - acc: 0.9090 - val_loss: 0.6619 - val_acc: 0.7150\n",
            "Epoch 17/30\n",
            "100/100 [==============================] - 95s 950ms/step - loss: 0.2201 - acc: 0.9165 - val_loss: 0.5752 - val_acc: 0.7550\n",
            "Epoch 18/30\n",
            "100/100 [==============================] - 95s 953ms/step - loss: 0.1917 - acc: 0.9305 - val_loss: 0.7734 - val_acc: 0.7150\n",
            "Epoch 19/30\n",
            "100/100 [==============================] - 96s 961ms/step - loss: 0.1798 - acc: 0.9325 - val_loss: 0.6942 - val_acc: 0.7300\n",
            "Epoch 20/30\n",
            "100/100 [==============================] - 96s 957ms/step - loss: 0.1488 - acc: 0.9455 - val_loss: 0.6941 - val_acc: 0.7250\n",
            "Epoch 21/30\n",
            "100/100 [==============================] - 96s 962ms/step - loss: 0.1338 - acc: 0.9545 - val_loss: 0.7154 - val_acc: 0.7450\n",
            "Epoch 22/30\n",
            "100/100 [==============================] - 96s 958ms/step - loss: 0.1125 - acc: 0.9635 - val_loss: 0.9801 - val_acc: 0.7000\n",
            "Epoch 23/30\n",
            "100/100 [==============================] - 95s 954ms/step - loss: 0.0914 - acc: 0.9680 - val_loss: 0.8677 - val_acc: 0.7150\n",
            "Epoch 24/30\n",
            "100/100 [==============================] - 95s 952ms/step - loss: 0.0831 - acc: 0.9735 - val_loss: 0.8649 - val_acc: 0.7200\n",
            "Epoch 25/30\n",
            "100/100 [==============================] - 95s 952ms/step - loss: 0.0708 - acc: 0.9785 - val_loss: 0.7110 - val_acc: 0.7250\n",
            "Epoch 26/30\n",
            "100/100 [==============================] - 95s 950ms/step - loss: 0.0593 - acc: 0.9850 - val_loss: 1.1903 - val_acc: 0.6900\n",
            "Epoch 27/30\n",
            "100/100 [==============================] - 95s 947ms/step - loss: 0.0528 - acc: 0.9855 - val_loss: 0.7351 - val_acc: 0.7500\n",
            "Epoch 28/30\n",
            "100/100 [==============================] - 95s 952ms/step - loss: 0.0499 - acc: 0.9885 - val_loss: 0.9591 - val_acc: 0.7150\n",
            "Epoch 29/30\n",
            "100/100 [==============================] - 96s 955ms/step - loss: 0.0295 - acc: 0.9925 - val_loss: 1.0359 - val_acc: 0.7350\n",
            "Epoch 30/30\n",
            "100/100 [==============================] - 95s 950ms/step - loss: 0.0370 - acc: 0.9905 - val_loss: 1.2216 - val_acc: 0.7100\n"
          ],
          "name": "stdout"
        }
      ]
    },
    {
      "cell_type": "code",
      "metadata": {
        "id": "tdGlieF-dzA6",
        "colab_type": "code",
        "outputId": "d4f56c30-fc4f-423c-d842-bb8ef9fc0975",
        "colab": {
          "base_uri": "https://localhost:8080/",
          "height": 545
        }
      },
      "source": [
        "model.save('cats_and_dogs_small_1.h5')\n",
        "\n",
        "import matplotlib.pyplot as plt\n",
        "\n",
        "acc = history.history['acc']\n",
        "val_acc = history.history['val_acc']\n",
        "loss = history.history['loss']\n",
        "val_loss = history.history['val_loss']\n",
        "\n",
        "epochs = range(1, len(acc) + 1)\n",
        "\n",
        "plt.plot(epochs, acc, 'bo', label='Training acc')\n",
        "plt.plot(epochs, val_acc, 'b', label='Validation acc')\n",
        "plt.title('Training and validation accuracy')\n",
        "plt.legend()\n",
        "\n",
        "plt.figure()\n",
        "\n",
        "plt.plot(epochs, loss, 'bo', label='Training loss')\n",
        "plt.plot(epochs, val_loss, 'b', label='Validation loss')\n",
        "plt.title('Training and validation loss')\n",
        "plt.legend()\n",
        "\n",
        "plt.show()"
      ],
      "execution_count": 13,
      "outputs": [
        {
          "output_type": "display_data",
          "data": {
            "image/png": "[encoded data removed]",
            "text/plain": [
              "<Figure size 432x288 with 1 Axes>"
            ]
          },
          "metadata": {
            "tags": []
          }
        },
        {
          "output_type": "display_data",
          "data": {
            "image/png": "[encoded data removed]",
            "text/plain": [
              "<Figure size 432x288 with 1 Axes>"
            ]
          },
          "metadata": {
            "tags": []
          }
        }
      ]
    },
    {
      "cell_type": "code",
      "metadata": {
        "id": "tW-0WajueCzv",
        "colab_type": "code",
        "outputId": "1ce2a7b1-c5db-4186-8f94-7f5b90503424",
        "colab": {
          "base_uri": "https://localhost:8080/",
          "height": 102
        }
      },
      "source": [
        "model = models.Sequential()\n",
        "model.add(layers.Conv2D(32, (3, 3), activation='relu',\n",
        "input_shape=(150, 150, 3)))\n",
        "model.add(layers.MaxPooling2D((2, 2)))\n",
        "model.add(layers.Conv2D(64, (3, 3), activation='relu'))\n",
        "model.add(layers.MaxPooling2D((2, 2)))\n",
        "model.add(layers.Conv2D(128, (3, 3), activation='relu'))\n",
        "model.add(layers.MaxPooling2D((2, 2)))\n",
        "model.add(layers.Conv2D(128, (3, 3), activation='relu'))\n",
        "model.add(layers.MaxPooling2D((2, 2)))\n",
        "model.add(layers.Flatten())\n",
        "model.add(layers.Dropout(0.5))\n",
        "model.add(layers.Dense(512, activation='relu'))\n",
        "model.add(layers.Dense(1, activation='sigmoid'))\n",
        "\n",
        "model.compile(loss='binary_crossentropy',\n",
        "              optimizer=optimizers.RMSprop(lr=1e-4),\n",
        "              metrics=['acc'])"
      ],
      "execution_count": 0,
      "outputs": [
        {
          "output_type": "stream",
          "text": [
            "WARNING:tensorflow:From /usr/local/lib/python3.6/dist-packages/keras/backend/tensorflow_backend.py:148: The name tf.placeholder_with_default is deprecated. Please use tf.compat.v1.placeholder_with_default instead.\n",
            "\n",
            "WARNING:tensorflow:From /usr/local/lib/python3.6/dist-packages/keras/backend/tensorflow_backend.py:3733: calling dropout (from tensorflow.python.ops.nn_ops) with keep_prob is deprecated and will be removed in a future version.\n",
            "Instructions for updating:\n",
            "Please use `rate` instead of `keep_prob`. Rate should be set to `rate = 1 - keep_prob`.\n"
          ],
          "name": "stdout"
        }
      ]
    },
    {
      "cell_type": "code",
      "metadata": {
        "id": "cbshUOD-eE7X",
        "colab_type": "code",
        "outputId": "f85160a5-102f-4f38-ab01-3f07a96891f3",
        "colab": {
          "base_uri": "https://localhost:8080/",
          "height": 731
        }
      },
      "source": [
        "train_datagen = ImageDataGenerator(rescale=1./255,\n",
        "                                   rotation_range=40,\n",
        "                                   width_shift_range=0.2,\n",
        "                                   height_shift_range=0.2,\n",
        "                                   shear_range=0.2,\n",
        "                                   zoom_range=0.2,\n",
        "                                   horizontal_flip=True,)\n",
        "\n",
        "test_datagen = ImageDataGenerator(rescale=1./255)\n",
        "\n",
        "train_generator = train_datagen.flow_from_directory(train_dir,\n",
        "                                                    target_size=(150, 150),\n",
        "                                                    batch_size=32,\n",
        "                                                    class_mode='binary')\n",
        "\n",
        "validation_generator = test_datagen.flow_from_directory(validation_dir,\n",
        "                                                        target_size=(150, 150),\n",
        "                                                        batch_size=32,\n",
        "                                                        class_mode='binary')\n",
        "\n",
        "history = model.fit_generator(train_generator,\n",
        "                              steps_per_epoch=100,\n",
        "                              epochs=20,\n",
        "                              validation_data=validation_generator,\n",
        "                              validation_steps=50)"
      ],
      "execution_count": 0,
      "outputs": [
        {
          "output_type": "stream",
          "text": [
            "Found 2000 images belonging to 2 classes.\n",
            "Found 1000 images belonging to 2 classes.\n",
            "Epoch 1/20\n",
            "100/100 [==============================] - 194s 2s/step - loss: 0.6934 - acc: 0.5188 - val_loss: 0.6795 - val_acc: 0.6003\n",
            "Epoch 2/20\n",
            "100/100 [==============================] - 191s 2s/step - loss: 0.6783 - acc: 0.5813 - val_loss: 0.6588 - val_acc: 0.6057\n",
            "Epoch 3/20\n",
            "100/100 [==============================] - 193s 2s/step - loss: 0.6617 - acc: 0.6012 - val_loss: 0.6355 - val_acc: 0.6320\n",
            "Epoch 4/20\n",
            "100/100 [==============================] - 190s 2s/step - loss: 0.6513 - acc: 0.6153 - val_loss: 0.6214 - val_acc: 0.6585\n",
            "Epoch 5/20\n",
            "100/100 [==============================] - 188s 2s/step - loss: 0.6335 - acc: 0.6391 - val_loss: 0.6032 - val_acc: 0.6745\n",
            "Epoch 6/20\n",
            "100/100 [==============================] - 193s 2s/step - loss: 0.6182 - acc: 0.6616 - val_loss: 0.6485 - val_acc: 0.6160\n",
            "Epoch 7/20\n",
            "100/100 [==============================] - 190s 2s/step - loss: 0.6103 - acc: 0.6516 - val_loss: 0.5813 - val_acc: 0.6891\n",
            "Epoch 8/20\n",
            "100/100 [==============================] - 192s 2s/step - loss: 0.6006 - acc: 0.6650 - val_loss: 0.5605 - val_acc: 0.6972\n",
            "Epoch 9/20\n",
            "100/100 [==============================] - 191s 2s/step - loss: 0.6011 - acc: 0.6609 - val_loss: 0.5549 - val_acc: 0.7191\n",
            "Epoch 10/20\n",
            "100/100 [==============================] - 191s 2s/step - loss: 0.5821 - acc: 0.6931 - val_loss: 0.6266 - val_acc: 0.6516\n",
            "Epoch 11/20\n",
            "100/100 [==============================] - 191s 2s/step - loss: 0.5800 - acc: 0.6978 - val_loss: 0.5494 - val_acc: 0.7126\n",
            "Epoch 12/20\n",
            "100/100 [==============================] - 190s 2s/step - loss: 0.5710 - acc: 0.6894 - val_loss: 0.5290 - val_acc: 0.7297\n",
            "Epoch 13/20\n",
            "100/100 [==============================] - 193s 2s/step - loss: 0.5651 - acc: 0.7091 - val_loss: 0.5309 - val_acc: 0.7139\n",
            "Epoch 14/20\n",
            "100/100 [==============================] - 191s 2s/step - loss: 0.5655 - acc: 0.7156 - val_loss: 0.5279 - val_acc: 0.7373\n",
            "Epoch 15/20\n",
            "100/100 [==============================] - 190s 2s/step - loss: 0.5564 - acc: 0.7153 - val_loss: 0.5559 - val_acc: 0.7159\n",
            "Epoch 16/20\n",
            "100/100 [==============================] - 189s 2s/step - loss: 0.5493 - acc: 0.7128 - val_loss: 0.5134 - val_acc: 0.7461\n",
            "Epoch 17/20\n",
            "100/100 [==============================] - 192s 2s/step - loss: 0.5482 - acc: 0.7206 - val_loss: 0.5212 - val_acc: 0.7176\n",
            "Epoch 18/20\n",
            "100/100 [==============================] - 195s 2s/step - loss: 0.5441 - acc: 0.7222 - val_loss: 0.5054 - val_acc: 0.7416\n",
            "Epoch 19/20\n",
            "100/100 [==============================] - 190s 2s/step - loss: 0.5424 - acc: 0.7131 - val_loss: 0.4887 - val_acc: 0.7633\n",
            "Epoch 20/20\n",
            "100/100 [==============================] - 191s 2s/step - loss: 0.5296 - acc: 0.7303 - val_loss: 0.5126 - val_acc: 0.7332\n"
          ],
          "name": "stdout"
        }
      ]
    }
  ]
}