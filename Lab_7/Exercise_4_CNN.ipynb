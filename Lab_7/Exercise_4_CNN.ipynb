{
  "nbformat": 4,
  "nbformat_minor": 0,
  "metadata": {
    "colab": {
      "name": "Exercise_4_CNN.ipynb",
      "provenance": [],
      "collapsed_sections": [],
      "authorship_tag": "ABX9TyNwc/8tqrt65fJ1rb8NN4Cy",
      "include_colab_link": true
    },
    "kernelspec": {
      "name": "python3",
      "display_name": "Python 3"
    }
  },
  "cells": [
    {
      "cell_type": "markdown",
      "metadata": {
        "id": "view-in-github",
        "colab_type": "text"
      },
      "source": [
        "<a href=\"https://colab.research.google.com/github/jm19465/CE888/blob/master/Lab_7/Exercise_4_CNN.ipynb\" target=\"_parent\"><img src=\"https://colab.research.google.com/assets/colab-badge.svg\" alt=\"Open In Colab\"/></a>"
      ]
    },
    {
      "cell_type": "code",
      "metadata": {
        "id": "vOPV3P9hHGAU",
        "colab_type": "code",
        "outputId": "2874e553-fb75-4029-ed4e-a1fe80ffa4f9",
        "colab": {
          "base_uri": "https://localhost:8080/",
          "height": 73
        }
      },
      "source": [
        "import os\n",
        "os.environ['KAGGLE_USERNAME'] = \"guillermomejia\"\n",
        "os.environ['KAGGLE_KEY'] = \"72538d1c63af91e0bd757768279c3ba1\"\n",
        "!kaggle datasets download -d arunrk7/surface-crack-detection\n",
        "# change dataset to -- kaggle datasets download -d arunrk7/surface-crack-detection"
      ],
      "execution_count": 14,
      "outputs": [
        {
          "output_type": "stream",
          "text": [
            "Downloading surface-crack-detection.zip to /content\n",
            " 92% 215M/233M [00:01<00:00, 133MB/s]\n",
            "100% 233M/233M [00:01<00:00, 124MB/s]\n"
          ],
          "name": "stdout"
        }
      ]
    },
    {
      "cell_type": "code",
      "metadata": {
        "id": "AndNGrwiJLLu",
        "colab_type": "code",
        "outputId": "d9e60e24-ad3f-4026-d618-3ee4e5dd9aef",
        "colab": {
          "base_uri": "https://localhost:8080/",
          "height": 36
        }
      },
      "source": [
        "from zipfile import ZipFile\n",
        "\n",
        "file_name = \"/content/surface-crack-detection.zip\"\n",
        "\n",
        "with ZipFile(file_name, 'r') as zip:\n",
        "  zip.extractall()\n",
        "  print('done')"
      ],
      "execution_count": 15,
      "outputs": [
        {
          "output_type": "stream",
          "text": [
            "done\n"
          ],
          "name": "stdout"
        }
      ]
    },
    {
      "cell_type": "code",
      "metadata": {
        "id": "NN3hnic0LO94",
        "colab_type": "code",
        "outputId": "e55d51e8-643d-44f3-b88f-aa65a112dbe7",
        "colab": {
          "base_uri": "https://localhost:8080/",
          "height": 36
        }
      },
      "source": [
        "data_dir_list = os.listdir('/content/Negative')\n",
        "path, dirs, files = next(os.walk(\"/content/Negative\"))\n",
        "file_count = len(files)\n",
        "print(file_count)"
      ],
      "execution_count": 18,
      "outputs": [
        {
          "output_type": "stream",
          "text": [
            "20000\n"
          ],
          "name": "stdout"
        }
      ]
    },
    {
      "cell_type": "code",
      "metadata": {
        "id": "u27_2vfDLROA",
        "colab_type": "code",
        "colab": {}
      },
      "source": [
        "original_dataset_dir_pos = '/content/Positive'\n",
        "original_dataset_dir_neg = '/content/Negative'\n",
        "base_dir = '/content/PosNeg'\n",
        "os.mkdir(base_dir)"
      ],
      "execution_count": 0,
      "outputs": []
    },
    {
      "cell_type": "code",
      "metadata": {
        "id": "tbLKH1FhLSio",
        "colab_type": "code",
        "colab": {}
      },
      "source": [
        "train_dir = os.path.join(base_dir, 'train')\n",
        "os.mkdir(train_dir)\n",
        "\n",
        "validation_dir = os.path.join(base_dir, 'validation')\n",
        "os.mkdir(validation_dir)\n",
        "\n",
        "test_dir = os.path.join(base_dir, 'test')\n",
        "os.mkdir(test_dir)\n",
        "\n",
        "train_positive_dir = os.path.join(train_dir, 'positive')\n",
        "os.mkdir(train_positive_dir)\n",
        "\n",
        "train_negative_dir = os.path.join(train_dir, 'negative')\n",
        "os.mkdir(train_negative_dir)\n",
        "\n",
        "validation_positive_dir = os.path.join(validation_dir, 'positive')\n",
        "os.mkdir(validation_positive_dir)\n",
        "\n",
        "validation_negative_dir = os.path.join(validation_dir, 'negative')\n",
        "os.mkdir(validation_negative_dir)\n",
        "\n",
        "test_positive_dir = os.path.join(test_dir, 'positive')\n",
        "os.mkdir(test_positive_dir)\n",
        "\n",
        "test_negative_dir = os.path.join(test_dir, 'negative')\n",
        "os.mkdir(test_negative_dir)"
      ],
      "execution_count": 0,
      "outputs": []
    },
    {
      "cell_type": "code",
      "metadata": {
        "id": "-DNLHBxZLX_A",
        "colab_type": "code",
        "colab": {}
      },
      "source": [
        "import shutil\n",
        "fnames = []\n",
        "\n",
        "for i in range(1,1001):\n",
        "  if i < 10:\n",
        "    name = '0000{}.jpg'.format(i)\n",
        "    fnames.append(name)\n",
        "  if i >= 10 and i <100:\n",
        "    name = '000{}.jpg'.format(i)\n",
        "    fnames.append(name)\n",
        "  if i >=100 and i < 1000:\n",
        "    name = '00{}.jpg'.format(i)\n",
        "    fnames.append(name)\n",
        "  if i >= 1000:\n",
        "    name = '0{}.jpg'.format(i)\n",
        "    fnames.append(name)\n",
        "\n",
        "for fname in fnames:\n",
        "    src = os.path.join(original_dataset_dir_pos, fname)\n",
        "    dst = os.path.join(train_positive_dir, fname)\n",
        "    #print(src,dst)\n",
        "    shutil.copyfile(src, dst)\n",
        "    \n",
        "fnames = ['0{}.jpg'.format(i) for i in range(1000, 1500)]\n",
        "for fname in fnames:\n",
        "    src = os.path.join(original_dataset_dir_pos, fname)\n",
        "    dst = os.path.join(validation_positive_dir, fname)\n",
        "    shutil.copyfile(src, dst)\n",
        "\n",
        "fnames = ['0{}.jpg'.format(i) for i in range(1500, 2000)]\n",
        "for fname in fnames:\n",
        "    src = os.path.join(original_dataset_dir_pos, fname)\n",
        "    dst = os.path.join(test_positive_dir, fname)\n",
        "    shutil.copyfile(src, dst)\n",
        "\n",
        "fnames = []\n",
        "for i in range(1,1001):\n",
        "  if i < 10:\n",
        "    name = '0000{}.jpg'.format(i)\n",
        "    fnames.append(name)\n",
        "  if i >= 10 and i <100:\n",
        "    name = '000{}.jpg'.format(i)\n",
        "    fnames.append(name)\n",
        "  if i >=100 and i < 1000:\n",
        "    name = '00{}.jpg'.format(i)\n",
        "    fnames.append(name)\n",
        "  if i >= 1000:\n",
        "    name = '0{}.jpg'.format(i)\n",
        "    fnames.append(name)\n",
        "\n",
        "for fname in fnames:\n",
        "    src = os.path.join(original_dataset_dir_neg, fname)\n",
        "    dst = os.path.join(train_negative_dir, fname)\n",
        "    shutil.copyfile(src, dst)\n",
        "\n",
        "fnames = ['0{}.jpg'.format(i) for i in range(1000, 1500)]\n",
        "for fname in fnames:\n",
        "    src = os.path.join(original_dataset_dir_neg, fname)\n",
        "    dst = os.path.join(validation_negative_dir, fname)\n",
        "    shutil.copyfile(src, dst)\n",
        "\n",
        "fnames = ['0{}.jpg'.format(i) for i in range(1500, 2000)]\n",
        "for fname in fnames:\n",
        "    src = os.path.join(original_dataset_dir_neg, fname)\n",
        "    dst = os.path.join(test_negative_dir, fname)\n",
        "    shutil.copyfile(src, dst)"
      ],
      "execution_count": 0,
      "outputs": []
    },
    {
      "cell_type": "code",
      "metadata": {
        "id": "s7C8WmFjLZ8w",
        "colab_type": "code",
        "outputId": "0d8a579a-2684-47b0-b447-b6ee4c64e0b3",
        "colab": {
          "base_uri": "https://localhost:8080/",
          "height": 129
        }
      },
      "source": [
        "print('total training positive images:', len(os.listdir(train_positive_dir)))\n",
        "print('total training negative images:', len(os.listdir(train_negative_dir)))\n",
        "print('total validation positive images:', len(os.listdir(validation_positive_dir)))\n",
        "\n",
        "print('total validation negative images:', len(os.listdir(validation_negative_dir)))\n",
        "print('total test positive images:', len(os.listdir(test_positive_dir)))\n",
        "print('total test negative images:', len(os.listdir(test_negative_dir)))"
      ],
      "execution_count": 37,
      "outputs": [
        {
          "output_type": "stream",
          "text": [
            "total training positive images: 1000\n",
            "total training negative images: 1000\n",
            "total validation positive images: 500\n",
            "total validation negative images: 500\n",
            "total test positive images: 500\n",
            "total test negative images: 500\n"
          ],
          "name": "stdout"
        }
      ]
    },
    {
      "cell_type": "code",
      "metadata": {
        "id": "SRsi_wZZNbZ0",
        "colab_type": "code",
        "outputId": "c27cca7f-80d6-4be9-f37a-54d2ae6ec275",
        "colab": {
          "base_uri": "https://localhost:8080/",
          "height": 578
        }
      },
      "source": [
        "from keras import layers\n",
        "from keras import models\n",
        "\n",
        "model = models.Sequential()\n",
        "model.add(layers.Conv2D(32, (3, 3), activation='relu', input_shape=(150, 150, 3)))\n",
        "model.add(layers.MaxPooling2D((2, 2)))\n",
        "model.add(layers.Conv2D(64, (3, 3), activation='relu'))\n",
        "model.add(layers.MaxPooling2D((2, 2)))\n",
        "model.add(layers.Conv2D(128, (3, 3), activation='relu'))\n",
        "model.add(layers.MaxPooling2D((2, 2)))\n",
        "model.add(layers.Conv2D(128, (3, 3), activation='relu'))\n",
        "model.add(layers.MaxPooling2D((2, 2)))\n",
        "model.add(layers.Flatten())\n",
        "model.add(layers.Dense(512, activation='relu'))\n",
        "model.add(layers.Dense(1, activation='sigmoid'))\n",
        "model.summary()"
      ],
      "execution_count": 38,
      "outputs": [
        {
          "output_type": "stream",
          "text": [
            "Model: \"sequential_2\"\n",
            "_________________________________________________________________\n",
            "Layer (type)                 Output Shape              Param #   \n",
            "=================================================================\n",
            "conv2d_5 (Conv2D)            (None, 148, 148, 32)      896       \n",
            "_________________________________________________________________\n",
            "max_pooling2d_5 (MaxPooling2 (None, 74, 74, 32)        0         \n",
            "_________________________________________________________________\n",
            "conv2d_6 (Conv2D)            (None, 72, 72, 64)        18496     \n",
            "_________________________________________________________________\n",
            "max_pooling2d_6 (MaxPooling2 (None, 36, 36, 64)        0         \n",
            "_________________________________________________________________\n",
            "conv2d_7 (Conv2D)            (None, 34, 34, 128)       73856     \n",
            "_________________________________________________________________\n",
            "max_pooling2d_7 (MaxPooling2 (None, 17, 17, 128)       0         \n",
            "_________________________________________________________________\n",
            "conv2d_8 (Conv2D)            (None, 15, 15, 128)       147584    \n",
            "_________________________________________________________________\n",
            "max_pooling2d_8 (MaxPooling2 (None, 7, 7, 128)         0         \n",
            "_________________________________________________________________\n",
            "flatten_2 (Flatten)          (None, 6272)              0         \n",
            "_________________________________________________________________\n",
            "dense_3 (Dense)              (None, 512)               3211776   \n",
            "_________________________________________________________________\n",
            "dense_4 (Dense)              (None, 1)                 513       \n",
            "=================================================================\n",
            "Total params: 3,453,121\n",
            "Trainable params: 3,453,121\n",
            "Non-trainable params: 0\n",
            "_________________________________________________________________\n"
          ],
          "name": "stdout"
        }
      ]
    },
    {
      "cell_type": "code",
      "metadata": {
        "id": "Z5WziKKONfmJ",
        "colab_type": "code",
        "colab": {}
      },
      "source": [
        "from keras import optimizers\n",
        "model.compile(loss='binary_crossentropy', \n",
        "              optimizer=optimizers.RMSprop(lr=1e-4),\n",
        "              metrics=['acc'])"
      ],
      "execution_count": 0,
      "outputs": []
    },
    {
      "cell_type": "code",
      "metadata": {
        "id": "PHw-511PPt7Q",
        "colab_type": "code",
        "outputId": "976e5ea6-0de4-4357-8633-fd280fe724aa",
        "colab": {
          "base_uri": "https://localhost:8080/",
          "height": 54
        }
      },
      "source": [
        "from keras.preprocessing.image import ImageDataGenerator\n",
        "\n",
        "train_datagen = ImageDataGenerator(rescale=1./255)\n",
        "test_datagen = ImageDataGenerator(rescale=1./255)\n",
        "\n",
        "train_generator = train_datagen.flow_from_directory(train_dir,\n",
        "                                                    target_size=(150, 150), \n",
        "                                                    batch_size=20,\n",
        "                                                    class_mode='binary')\n",
        "\n",
        "validation_generator = test_datagen.flow_from_directory(validation_dir,\n",
        "                                                        target_size=(150, 150),\n",
        "                                                        batch_size=20,\n",
        "                                                        class_mode='binary')"
      ],
      "execution_count": 40,
      "outputs": [
        {
          "output_type": "stream",
          "text": [
            "Found 2000 images belonging to 2 classes.\n",
            "Found 1000 images belonging to 2 classes.\n"
          ],
          "name": "stdout"
        }
      ]
    },
    {
      "cell_type": "code",
      "metadata": {
        "id": "Ryor_ywbP9-h",
        "colab_type": "code",
        "outputId": "aab48187-816a-4194-cf97-c17f297f2ac9",
        "colab": {
          "base_uri": "https://localhost:8080/",
          "height": 1000
        }
      },
      "source": [
        "history = model.fit_generator(train_generator,\n",
        "                              steps_per_epoch=100,\n",
        "                              epochs=30,\n",
        "                              validation_data=validation_generator,\n",
        "                              validation_steps=10)"
      ],
      "execution_count": 42,
      "outputs": [
        {
          "output_type": "stream",
          "text": [
            "Epoch 1/30\n",
            "100/100 [==============================] - 93s 929ms/step - loss: 0.3325 - acc: 0.8650 - val_loss: 0.1020 - val_acc: 0.9800\n",
            "Epoch 2/30\n",
            "100/100 [==============================] - 92s 922ms/step - loss: 0.0874 - acc: 0.9720 - val_loss: 0.0621 - val_acc: 0.9850\n",
            "Epoch 3/30\n",
            "100/100 [==============================] - 92s 918ms/step - loss: 0.0708 - acc: 0.9800 - val_loss: 0.0354 - val_acc: 0.9850\n",
            "Epoch 4/30\n",
            "100/100 [==============================] - 92s 920ms/step - loss: 0.0635 - acc: 0.9780 - val_loss: 0.0350 - val_acc: 0.9850\n",
            "Epoch 5/30\n",
            "100/100 [==============================] - 91s 913ms/step - loss: 0.0606 - acc: 0.9820 - val_loss: 0.0548 - val_acc: 0.9800\n",
            "Epoch 6/30\n",
            "100/100 [==============================] - 92s 915ms/step - loss: 0.0450 - acc: 0.9855 - val_loss: 0.0397 - val_acc: 0.9850\n",
            "Epoch 7/30\n",
            "100/100 [==============================] - 91s 914ms/step - loss: 0.0416 - acc: 0.9890 - val_loss: 0.0318 - val_acc: 0.9900\n",
            "Epoch 8/30\n",
            "100/100 [==============================] - 91s 913ms/step - loss: 0.0362 - acc: 0.9870 - val_loss: 0.0467 - val_acc: 0.9850\n",
            "Epoch 9/30\n",
            "100/100 [==============================] - 91s 915ms/step - loss: 0.0340 - acc: 0.9905 - val_loss: 0.0063 - val_acc: 1.0000\n",
            "Epoch 10/30\n",
            "100/100 [==============================] - 91s 913ms/step - loss: 0.0329 - acc: 0.9915 - val_loss: 0.1351 - val_acc: 0.9800\n",
            "Epoch 11/30\n",
            "100/100 [==============================] - 91s 913ms/step - loss: 0.0380 - acc: 0.9890 - val_loss: 0.0031 - val_acc: 1.0000\n",
            "Epoch 12/30\n",
            "100/100 [==============================] - 91s 913ms/step - loss: 0.0308 - acc: 0.9900 - val_loss: 0.0874 - val_acc: 0.9900\n",
            "Epoch 13/30\n",
            "100/100 [==============================] - 92s 917ms/step - loss: 0.0237 - acc: 0.9905 - val_loss: 0.0579 - val_acc: 0.9850\n",
            "Epoch 14/30\n",
            "100/100 [==============================] - 92s 918ms/step - loss: 0.0149 - acc: 0.9950 - val_loss: 0.1185 - val_acc: 0.9700\n",
            "Epoch 15/30\n",
            "100/100 [==============================] - 91s 911ms/step - loss: 0.0235 - acc: 0.9925 - val_loss: 0.0066 - val_acc: 1.0000\n",
            "Epoch 16/30\n",
            "100/100 [==============================] - 91s 913ms/step - loss: 0.0229 - acc: 0.9930 - val_loss: 0.0869 - val_acc: 0.9900\n",
            "Epoch 17/30\n",
            "100/100 [==============================] - 91s 913ms/step - loss: 0.0191 - acc: 0.9935 - val_loss: 0.0440 - val_acc: 0.9900\n",
            "Epoch 18/30\n",
            "100/100 [==============================] - 92s 915ms/step - loss: 0.0241 - acc: 0.9920 - val_loss: 0.0337 - val_acc: 0.9850\n",
            "Epoch 19/30\n",
            "100/100 [==============================] - 92s 916ms/step - loss: 0.0190 - acc: 0.9925 - val_loss: 0.0040 - val_acc: 1.0000\n",
            "Epoch 20/30\n",
            "100/100 [==============================] - 91s 914ms/step - loss: 0.0194 - acc: 0.9935 - val_loss: 0.0214 - val_acc: 0.9950\n",
            "Epoch 21/30\n",
            "100/100 [==============================] - 92s 915ms/step - loss: 0.0157 - acc: 0.9950 - val_loss: 0.0107 - val_acc: 0.9900\n",
            "Epoch 22/30\n",
            "100/100 [==============================] - 91s 912ms/step - loss: 0.0186 - acc: 0.9955 - val_loss: 0.0366 - val_acc: 0.9800\n",
            "Epoch 23/30\n",
            "100/100 [==============================] - 91s 912ms/step - loss: 0.0154 - acc: 0.9945 - val_loss: 9.8496e-04 - val_acc: 1.0000\n",
            "Epoch 24/30\n",
            "100/100 [==============================] - 91s 913ms/step - loss: 0.0182 - acc: 0.9945 - val_loss: 0.0556 - val_acc: 0.9950\n",
            "Epoch 25/30\n",
            "100/100 [==============================] - 91s 909ms/step - loss: 0.0120 - acc: 0.9965 - val_loss: 0.1017 - val_acc: 0.9850\n",
            "Epoch 26/30\n",
            "100/100 [==============================] - 91s 915ms/step - loss: 0.0138 - acc: 0.9970 - val_loss: 0.0614 - val_acc: 0.9800\n",
            "Epoch 27/30\n",
            "100/100 [==============================] - 91s 909ms/step - loss: 0.0144 - acc: 0.9955 - val_loss: 0.0456 - val_acc: 0.9900\n",
            "Epoch 28/30\n",
            "100/100 [==============================] - 91s 914ms/step - loss: 0.0119 - acc: 0.9965 - val_loss: 0.0010 - val_acc: 1.0000\n",
            "Epoch 29/30\n",
            "100/100 [==============================] - 91s 913ms/step - loss: 0.0092 - acc: 0.9965 - val_loss: 0.0407 - val_acc: 0.9950\n",
            "Epoch 30/30\n",
            "100/100 [==============================] - 91s 911ms/step - loss: 0.0109 - acc: 0.9970 - val_loss: 0.0166 - val_acc: 0.9950\n"
          ],
          "name": "stdout"
        }
      ]
    },
    {
      "cell_type": "code",
      "metadata": {
        "id": "tdGlieF-dzA6",
        "colab_type": "code",
        "outputId": "976cef7a-0ea7-47bb-bbfa-6775cb264fee",
        "colab": {
          "base_uri": "https://localhost:8080/",
          "height": 545
        }
      },
      "source": [
        "model.save('pos_neg.h5')\n",
        "\n",
        "import matplotlib.pyplot as plt\n",
        "\n",
        "acc = history.history['acc']\n",
        "val_acc = history.history['val_acc']\n",
        "loss = history.history['loss']\n",
        "val_loss = history.history['val_loss']\n",
        "\n",
        "epochs = range(1, len(acc) + 1)\n",
        "\n",
        "plt.plot(epochs, acc, 'bo', label='Training acc')\n",
        "plt.plot(epochs, val_acc, 'b', label='Validation acc')\n",
        "plt.title('Training and validation accuracy')\n",
        "plt.legend()\n",
        "\n",
        "plt.figure()\n",
        "\n",
        "plt.plot(epochs, loss, 'bo', label='Training loss')\n",
        "plt.plot(epochs, val_loss, 'b', label='Validation loss')\n",
        "plt.title('Training and validation loss')\n",
        "plt.legend()\n",
        "\n",
        "plt.show()"
      ],
      "execution_count": 43,
      "outputs": [
        {
          "output_type": "display_data",
          "data": {
            "image/png": "[encoded data removed]",
            "text/plain": [
              "<Figure size 432x288 with 1 Axes>"
            ]
          },
          "metadata": {
            "tags": []
          }
        },
        {
          "output_type": "display_data",
          "data": {
            "image/png": "[encoded data removed]",
            "text/plain": [
              "<Figure size 432x288 with 1 Axes>"
            ]
          },
          "metadata": {
            "tags": []
          }
        }
      ]
    },
    {
      "cell_type": "code",
      "metadata": {
        "id": "tW-0WajueCzv",
        "colab_type": "code",
        "outputId": "57c05ba9-e243-4e5b-d458-c209abfa6047",
        "colab": {
          "base_uri": "https://localhost:8080/",
          "height": 130
        }
      },
      "source": [
        "model = models.Sequential()\n",
        "model.add(layers.Conv2D(32, (3, 3), activation='relu',\n",
        "input_shape=(150, 150, 3)))\n",
        "model.add(layers.MaxPooling2D((2, 2)))\n",
        "model.add(layers.Conv2D(64, (3, 3), activation='relu'))\n",
        "model.add(layers.MaxPooling2D((2, 2)))\n",
        "model.add(layers.Conv2D(128, (3, 3), activation='relu'))\n",
        "model.add(layers.MaxPooling2D((2, 2)))\n",
        "model.add(layers.Conv2D(128, (3, 3), activation='relu'))\n",
        "model.add(layers.MaxPooling2D((2, 2)))\n",
        "model.add(layers.Flatten())\n",
        "model.add(layers.Dropout(0.5))\n",
        "model.add(layers.Dense(512, activation='relu'))\n",
        "model.add(layers.Dense(1, activation='sigmoid'))\n",
        "\n",
        "model.compile(loss='binary_crossentropy',\n",
        "              optimizer=optimizers.RMSprop(lr=1e-4),\n",
        "              metrics=['acc'])"
      ],
      "execution_count": 44,
      "outputs": [
        {
          "output_type": "stream",
          "text": [
            "WARNING:tensorflow:From /usr/local/lib/python3.6/dist-packages/keras/backend/tensorflow_backend.py:148: The name tf.placeholder_with_default is deprecated. Please use tf.compat.v1.placeholder_with_default instead.\n",
            "\n",
            "WARNING:tensorflow:From /usr/local/lib/python3.6/dist-packages/keras/backend/tensorflow_backend.py:3733: calling dropout (from tensorflow.python.ops.nn_ops) with keep_prob is deprecated and will be removed in a future version.\n",
            "Instructions for updating:\n",
            "Please use `rate` instead of `keep_prob`. Rate should be set to `rate = 1 - keep_prob`.\n"
          ],
          "name": "stdout"
        }
      ]
    },
    {
      "cell_type": "code",
      "metadata": {
        "id": "cbshUOD-eE7X",
        "colab_type": "code",
        "colab": {}
      },
      "source": [
        "train_datagen = ImageDataGenerator(rescale=1./255,\n",
        "                                   rotation_range=40,\n",
        "                                   width_shift_range=0.2,\n",
        "                                   height_shift_range=0.2,\n",
        "                                   shear_range=0.2,\n",
        "                                   zoom_range=0.2,\n",
        "                                   horizontal_flip=True,)\n",
        "\n",
        "test_datagen = ImageDataGenerator(rescale=1./255)\n",
        "\n",
        "train_generator = train_datagen.flow_from_directory(train_dir,\n",
        "                                                    target_size=(150, 150),\n",
        "                                                    batch_size=32,\n",
        "                                                    class_mode='binary')\n",
        "\n",
        "validation_generator = test_datagen.flow_from_directory(validation_dir,\n",
        "                                                        target_size=(150, 150),\n",
        "                                                        batch_size=32,\n",
        "                                                        class_mode='binary')\n",
        "\n",
        "history = model.fit_generator(train_generator,\n",
        "                              steps_per_epoch=100,\n",
        "                              epochs=20,\n",
        "                              validation_data=validation_generator,\n",
        "                              validation_steps=50)"
      ],
      "execution_count": 0,
      "outputs": []
    }
  ]
}