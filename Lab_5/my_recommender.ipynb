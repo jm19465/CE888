{
  "nbformat": 4,
  "nbformat_minor": 0,
  "metadata": {
    "colab": {
      "name": "my_recommender.ipynb",
      "provenance": [],
      "collapsed_sections": [],
      "authorship_tag": "ABX9TyPQt4lWIyQddL70RZeTxnCv",
      "include_colab_link": true
    },
    "kernelspec": {
      "name": "python3",
      "display_name": "Python 3"
    }
  },
  "cells": [
    {
      "cell_type": "markdown",
      "metadata": {
        "id": "view-in-github",
        "colab_type": "text"
      },
      "source": [
        "<a href=\"https://colab.research.google.com/github/jm19465/CE888/blob/master/Lab_5/my_recommender.ipynb\" target=\"_parent\"><img src=\"https://colab.research.google.com/assets/colab-badge.svg\" alt=\"Open In Colab\"/></a>"
      ]
    },
    {
      "cell_type": "code",
      "metadata": {
        "id": "dckJGDi-8gaj",
        "colab_type": "code",
        "colab": {}
      },
      "source": [
        "import pandas as pd\n",
        "import numpy as np\n",
        "np.set_printoptions(precision = 3)\n",
        "\n",
        "df = pd.read_csv(\"https://raw.githubusercontent.com/albanda/CE888/master/lab5-recommender/jester-data-1.csv\", delimiter = \",\")"
      ],
      "execution_count": 0,
      "outputs": []
    },
    {
      "cell_type": "code",
      "metadata": {
        "id": "POXVAFFC-Rps",
        "colab_type": "code",
        "colab": {
          "base_uri": "https://localhost:8080/",
          "height": 255
        },
        "outputId": "bd171e12-87f3-4d55-fc90-cff636945ff1"
      },
      "source": [
        "print(df)"
      ],
      "execution_count": 98,
      "outputs": [
        {
          "output_type": "stream",
          "text": [
            "        74  -7.82   8.79  -9.66  -8.16  ...  99.22  -5.63  99.23  99.24  99.25\n",
            "0      100   4.08  -0.29   6.36   4.37  ...  -2.14   3.06   0.34  -4.32   1.07\n",
            "1       49  99.00  99.00  99.00  99.00  ...  99.00  99.00  99.00  99.00  99.00\n",
            "2       48  99.00   8.35  99.00  99.00  ...  99.00  99.00  99.00  99.00  99.00\n",
            "3       91   8.50   4.61  -4.17  -5.39  ...   1.55   3.11   6.55   1.80   1.60\n",
            "4      100  -6.17  -3.54   0.44  -8.50  ...  -3.35   0.05  -9.08  -5.05  -3.45\n",
            "...    ...    ...    ...    ...    ...  ...    ...    ...    ...    ...    ...\n",
            "24977  100   0.44   7.43   9.08   2.33  ...   9.03   6.55   8.69   8.79   7.43\n",
            "24978   91   9.13  -8.16   8.59   9.08  ...  -8.20  -7.23  -8.59   9.13   8.45\n",
            "24979   39  99.00  99.00  99.00  99.00  ...  99.00  99.00  99.00  99.00  99.00\n",
            "24980   37  99.00  99.00  99.00  99.00  ...  99.00  99.00  99.00  99.00  99.00\n",
            "24981   72   2.43   2.67  -3.98   4.27  ...  99.00  99.00  99.00  99.00  99.00\n",
            "\n",
            "[24982 rows x 101 columns]\n"
          ],
          "name": "stdout"
        }
      ]
    },
    {
      "cell_type": "code",
      "metadata": {
        "id": "sNAqad_4-bSq",
        "colab_type": "code",
        "colab": {
          "base_uri": "https://localhost:8080/",
          "height": 34
        },
        "outputId": "43ca9a7f-6775-4ef7-de00-a465e2338254"
      },
      "source": [
        "arr = df.values\n",
        "print(arr.shape)"
      ],
      "execution_count": 99,
      "outputs": [
        {
          "output_type": "stream",
          "text": [
            "(24982, 101)\n"
          ],
          "name": "stdout"
        }
      ]
    },
    {
      "cell_type": "code",
      "metadata": {
        "id": "jmhGq_Nt-gaq",
        "colab_type": "code",
        "colab": {}
      },
      "source": [
        "#rated = np.where(arr!=99)\n",
        "#print(len(rated[0]), rated[1].shape)"
      ],
      "execution_count": 0,
      "outputs": []
    },
    {
      "cell_type": "code",
      "metadata": {
        "id": "qTiBUwhW-6uC",
        "colab_type": "code",
        "colab": {}
      },
      "source": [
        "def replace(orig, percentage=0.1):\n",
        "  new_data = orig.copy()\n",
        "  rated = np.where(arr!=99)\n",
        "  n_rated = len(rated[0])\n",
        "  idx = np.random.choice(n_rated, size=int(percentage*n_rated), replace=False)\n",
        "  new_data[rated[0][idx], rated[1][idx]] = 99\n",
        "  return new_data, (rated[0][idx], rated[1][idx])"
      ],
      "execution_count": 0,
      "outputs": []
    },
    {
      "cell_type": "code",
      "metadata": {
        "id": "0Ffb8tSD_B1h",
        "colab_type": "code",
        "colab": {}
      },
      "source": [
        "new_arr, idx = replace(arr, 0.1)"
      ],
      "execution_count": 0,
      "outputs": []
    },
    {
      "cell_type": "code",
      "metadata": {
        "id": "aZJrwkY7_D3x",
        "colab_type": "code",
        "colab": {
          "base_uri": "https://localhost:8080/",
          "height": 34
        },
        "outputId": "8c4ee28d-6ec4-4c69-b873-ef4be873fd8f"
      },
      "source": [
        "arr[idx[0][0], idx[1][0]] # ORIGINAL SET"
      ],
      "execution_count": 103,
      "outputs": [
        {
          "output_type": "execute_result",
          "data": {
            "text/plain": [
              "3.06"
            ]
          },
          "metadata": {
            "tags": []
          },
          "execution_count": 103
        }
      ]
    },
    {
      "cell_type": "code",
      "metadata": {
        "id": "CAT4VAvs_ICZ",
        "colab_type": "code",
        "colab": {
          "base_uri": "https://localhost:8080/",
          "height": 34
        },
        "outputId": "5f9f4f7a-ce25-454b-f1d7-ff23d71781fe"
      },
      "source": [
        "new_arr[idx[0][0], idx[1][0]] # VALIDATION SET"
      ],
      "execution_count": 104,
      "outputs": [
        {
          "output_type": "execute_result",
          "data": {
            "text/plain": [
              "99.0"
            ]
          },
          "metadata": {
            "tags": []
          },
          "execution_count": 104
        }
      ]
    },
    {
      "cell_type": "code",
      "metadata": {
        "id": "tL2g7y3ZDWTL",
        "colab_type": "code",
        "colab": {}
      },
      "source": [
        "n_latent_factors = 2\n",
        "user_ratings = new_arr[:,1:]\n",
        "\n",
        "latent_user_preferences = np.random.random((user_ratings.shape[0], n_latent_factors))\n",
        "latent_item_features = np.random.random((user_ratings.shape[1], n_latent_factors))\n"
      ],
      "execution_count": 0,
      "outputs": []
    },
    {
      "cell_type": "code",
      "metadata": {
        "id": "cfu-drW4EEAJ",
        "colab_type": "code",
        "colab": {}
      },
      "source": [
        "def predict_rating(user_id, item_id):\n",
        "    user_preference = latent_user_preferences[user_id]\n",
        "    item_preference = latent_item_features[item_id]\n",
        "    return user_preference.dot(item_preference)\n",
        "\n",
        "def train(user_id, item_id, rating, alpha=0.0001):\n",
        "    prediction_rating = predict_rating(user_id, item_id)\n",
        "    error =  prediction_rating - rating\n",
        "    user_pref_values = latent_user_preferences[user_id][:]\n",
        "    latent_user_preferences[user_id] -= alpha * error * latent_item_features[item_id]\n",
        "    latent_item_features[item_id] -= alpha * error * user_pref_values\n",
        "    return error\n",
        "\n",
        "def sgd(iterations=3000):\n",
        "    for iteration in range(iterations):\n",
        "        error = []\n",
        "        for user_id in range(latent_user_preferences.shape[0]):\n",
        "            for item_id in range(latent_item_features.shape[0]):\n",
        "                rating = user_ratings[user_id][item_id]\n",
        "                if not np.isnan(rating):\n",
        "                    err = train(user_id, item_id, rating)\n",
        "                    error.append(err)\n",
        "        mse = (np.array(error) ** 2).mean()   \n",
        "        if (iteration % 100) == 0:\n",
        "            print(mse)"
      ],
      "execution_count": 0,
      "outputs": []
    },
    {
      "cell_type": "code",
      "metadata": {
        "id": "uVeMHijaEn0K",
        "colab_type": "code",
        "colab": {}
      },
      "source": [
        "sgd()"
      ],
      "execution_count": 0,
      "outputs": []
    }
  ]
}